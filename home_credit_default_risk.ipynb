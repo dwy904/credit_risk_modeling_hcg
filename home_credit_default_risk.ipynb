{
  "nbformat": 4,
  "nbformat_minor": 0,
  "metadata": {
    "colab": {
      "name": "home_credit_default_risk.ipynb",
      "version": "0.3.2",
      "provenance": [],
      "collapsed_sections": [],
      "include_colab_link": true
    },
    "kernelspec": {
      "name": "python3",
      "display_name": "Python 3"
    }
  },
  "cells": [
    {
      "cell_type": "markdown",
      "metadata": {
        "id": "view-in-github",
        "colab_type": "text"
      },
      "source": [
        "[View in Colaboratory](https://colab.research.google.com/github/dwy904/credit_risk_modeling_hcg/blob/master/home_credit_default_risk.ipynb)"
      ]
    },
    {
      "metadata": {
        "id": "mebAIC2VKsq_",
        "colab_type": "code",
        "colab": {}
      },
      "cell_type": "code",
      "source": [
        "# !pip install kaggle\n",
        "# !pip install boto3\n",
        "# !pip install pandas\n",
        "# !pip install numpy\n",
        "\n",
        "# !export PATH = \"/content/.local/bin/kaggle\"\n",
        "# !export PATH = \"/content/.local/lib/python3.6/site-packages/kaggle-1.3.12.dist-info/*\"\n",
        "# !export PATH = \"/content/.local/lib/python3.6/site-packages/kaggle/*\"\n",
        "# !ln -s ~/.local/bin/kaggle /usr/bin/kaggle\n",
        "# !wget https://github.com/fatenaught/home_risk/blob/master/kaggle.json\n",
        "# !cp kaggle.json .kaggle \n",
        "# !chmod 755 .kaggle/kaggle.json\n",
        "# !kaggle competitions download -c home-credit-default-risk\n"
      ],
      "execution_count": 0,
      "outputs": []
    },
    {
      "metadata": {
        "id": "aqAOXkMpFKxq",
        "colab_type": "code",
        "colab": {}
      },
      "cell_type": "code",
      "source": [
        "import pandas as pd\n",
        "import numpy as np\n",
        "from collections import Counter\n",
        "import matplotlib.pyplot as plt\n",
        "import seaborn as sns\n",
        "from sklearn.model_selection import train_test_split\n",
        "from sklearn.linear_model import LogisticRegression\n",
        "from sklearn import metrics\n",
        "from sklearn.ensemble import RandomForestClassifier\n",
        "from google.colab import files"
      ],
      "execution_count": 0,
      "outputs": []
    },
    {
      "metadata": {
        "id": "UNjkGStyOP5c",
        "colab_type": "text"
      },
      "cell_type": "markdown",
      "source": [
        "# Functions"
      ]
    },
    {
      "metadata": {
        "id": "uCj5mDckOTmW",
        "colab_type": "code",
        "colab": {}
      },
      "cell_type": "code",
      "source": [
        "def accuracy_check(score,cm):\n",
        "  plt.figure(figsize=(9,9))\n",
        "  sns.heatmap(cm, annot=True, fmt=\".3f\", linewidths=.5, square = True, cmap = 'Blues_r');\n",
        "  plt.ylabel('Actual label');\n",
        "  plt.xlabel('Predicted label');\n",
        "  all_sample_title = 'Accuracy Score: {0}'.format(score)\n",
        "  plt.title(all_sample_title, size = 15);"
      ],
      "execution_count": 0,
      "outputs": []
    },
    {
      "metadata": {
        "id": "4TXZQ2DrjHE3",
        "colab_type": "text"
      },
      "cell_type": "markdown",
      "source": [
        "# Data Cleaning And Exploration"
      ]
    },
    {
      "metadata": {
        "id": "ANCoolLYjV8l",
        "colab_type": "code",
        "colab": {}
      },
      "cell_type": "code",
      "source": [
        "application_train_original = pd.read_csv(\"https://s3.amazonaws.com/home-risk/application_train.csv\")\n",
        "application_test = pd.read_csv(\"https://s3.amazonaws.com/home-risk/application_test.csv\")\n",
        "bureau = pd.read_csv(\"https://s3.amazonaws.com/home-risk/bureau.csv\")\n",
        "bureau_balance = pd.read_csv(\"https://s3.amazonaws.com/home-risk/bureau_balance.csv\")\n",
        "credit_card_balance = pd.read_csv(\"https://s3.amazonaws.com/home-risk/credit_card_balance.csv\")\n",
        "install_payments = pd.read_csv(\"https://s3.amazonaws.com/home-risk/installments_payments.csv\")\n",
        "previous_applications = pd.read_csv(\"https://s3.amazonaws.com/home-risk/previous_application.csv\")\n",
        "pos_cash = pd.read_csv(\"https://s3.amazonaws.com/home-risk/POS_CASH_balance.csv\")"
      ],
      "execution_count": 0,
      "outputs": []
    },
    {
      "metadata": {
        "id": "fTTj8n4axp2h",
        "colab_type": "code",
        "colab": {
          "base_uri": "https://localhost:8080/",
          "height": 191
        },
        "outputId": "ebdec9f5-7990-494b-9ff8-927ca16238c4"
      },
      "cell_type": "code",
      "source": [
        "application_train_original.head(3)"
      ],
      "execution_count": 172,
      "outputs": [
        {
          "output_type": "execute_result",
          "data": {
            "text/html": [
              "<div>\n",
              "<style scoped>\n",
              "    .dataframe tbody tr th:only-of-type {\n",
              "        vertical-align: middle;\n",
              "    }\n",
              "\n",
              "    .dataframe tbody tr th {\n",
              "        vertical-align: top;\n",
              "    }\n",
              "\n",
              "    .dataframe thead th {\n",
              "        text-align: right;\n",
              "    }\n",
              "</style>\n",
              "<table border=\"1\" class=\"dataframe\">\n",
              "  <thead>\n",
              "    <tr style=\"text-align: right;\">\n",
              "      <th></th>\n",
              "      <th>SK_ID_CURR</th>\n",
              "      <th>TARGET</th>\n",
              "      <th>NAME_CONTRACT_TYPE</th>\n",
              "      <th>CODE_GENDER</th>\n",
              "      <th>FLAG_OWN_CAR</th>\n",
              "      <th>FLAG_OWN_REALTY</th>\n",
              "      <th>CNT_CHILDREN</th>\n",
              "      <th>AMT_INCOME_TOTAL</th>\n",
              "      <th>AMT_CREDIT</th>\n",
              "      <th>AMT_ANNUITY</th>\n",
              "      <th>...</th>\n",
              "      <th>FLAG_DOCUMENT_18</th>\n",
              "      <th>FLAG_DOCUMENT_19</th>\n",
              "      <th>FLAG_DOCUMENT_20</th>\n",
              "      <th>FLAG_DOCUMENT_21</th>\n",
              "      <th>AMT_REQ_CREDIT_BUREAU_HOUR</th>\n",
              "      <th>AMT_REQ_CREDIT_BUREAU_DAY</th>\n",
              "      <th>AMT_REQ_CREDIT_BUREAU_WEEK</th>\n",
              "      <th>AMT_REQ_CREDIT_BUREAU_MON</th>\n",
              "      <th>AMT_REQ_CREDIT_BUREAU_QRT</th>\n",
              "      <th>AMT_REQ_CREDIT_BUREAU_YEAR</th>\n",
              "    </tr>\n",
              "  </thead>\n",
              "  <tbody>\n",
              "    <tr>\n",
              "      <th>0</th>\n",
              "      <td>100002</td>\n",
              "      <td>1</td>\n",
              "      <td>Cash loans</td>\n",
              "      <td>M</td>\n",
              "      <td>N</td>\n",
              "      <td>Y</td>\n",
              "      <td>0</td>\n",
              "      <td>202500.0</td>\n",
              "      <td>406597.5</td>\n",
              "      <td>24700.5</td>\n",
              "      <td>...</td>\n",
              "      <td>0</td>\n",
              "      <td>0</td>\n",
              "      <td>0</td>\n",
              "      <td>0</td>\n",
              "      <td>0.0</td>\n",
              "      <td>0.0</td>\n",
              "      <td>0.0</td>\n",
              "      <td>0.0</td>\n",
              "      <td>0.0</td>\n",
              "      <td>1.0</td>\n",
              "    </tr>\n",
              "    <tr>\n",
              "      <th>1</th>\n",
              "      <td>100003</td>\n",
              "      <td>0</td>\n",
              "      <td>Cash loans</td>\n",
              "      <td>F</td>\n",
              "      <td>N</td>\n",
              "      <td>N</td>\n",
              "      <td>0</td>\n",
              "      <td>270000.0</td>\n",
              "      <td>1293502.5</td>\n",
              "      <td>35698.5</td>\n",
              "      <td>...</td>\n",
              "      <td>0</td>\n",
              "      <td>0</td>\n",
              "      <td>0</td>\n",
              "      <td>0</td>\n",
              "      <td>0.0</td>\n",
              "      <td>0.0</td>\n",
              "      <td>0.0</td>\n",
              "      <td>0.0</td>\n",
              "      <td>0.0</td>\n",
              "      <td>0.0</td>\n",
              "    </tr>\n",
              "    <tr>\n",
              "      <th>2</th>\n",
              "      <td>100004</td>\n",
              "      <td>0</td>\n",
              "      <td>Revolving loans</td>\n",
              "      <td>M</td>\n",
              "      <td>Y</td>\n",
              "      <td>Y</td>\n",
              "      <td>0</td>\n",
              "      <td>67500.0</td>\n",
              "      <td>135000.0</td>\n",
              "      <td>6750.0</td>\n",
              "      <td>...</td>\n",
              "      <td>0</td>\n",
              "      <td>0</td>\n",
              "      <td>0</td>\n",
              "      <td>0</td>\n",
              "      <td>0.0</td>\n",
              "      <td>0.0</td>\n",
              "      <td>0.0</td>\n",
              "      <td>0.0</td>\n",
              "      <td>0.0</td>\n",
              "      <td>0.0</td>\n",
              "    </tr>\n",
              "  </tbody>\n",
              "</table>\n",
              "<p>3 rows × 122 columns</p>\n",
              "</div>"
            ],
            "text/plain": [
              "   SK_ID_CURR  TARGET NAME_CONTRACT_TYPE CODE_GENDER FLAG_OWN_CAR  \\\n",
              "0      100002       1         Cash loans           M            N   \n",
              "1      100003       0         Cash loans           F            N   \n",
              "2      100004       0    Revolving loans           M            Y   \n",
              "\n",
              "  FLAG_OWN_REALTY  CNT_CHILDREN  AMT_INCOME_TOTAL  AMT_CREDIT  AMT_ANNUITY  \\\n",
              "0               Y             0          202500.0    406597.5      24700.5   \n",
              "1               N             0          270000.0   1293502.5      35698.5   \n",
              "2               Y             0           67500.0    135000.0       6750.0   \n",
              "\n",
              "              ...              FLAG_DOCUMENT_18 FLAG_DOCUMENT_19  \\\n",
              "0             ...                             0                0   \n",
              "1             ...                             0                0   \n",
              "2             ...                             0                0   \n",
              "\n",
              "  FLAG_DOCUMENT_20 FLAG_DOCUMENT_21 AMT_REQ_CREDIT_BUREAU_HOUR  \\\n",
              "0                0                0                        0.0   \n",
              "1                0                0                        0.0   \n",
              "2                0                0                        0.0   \n",
              "\n",
              "  AMT_REQ_CREDIT_BUREAU_DAY  AMT_REQ_CREDIT_BUREAU_WEEK  \\\n",
              "0                       0.0                         0.0   \n",
              "1                       0.0                         0.0   \n",
              "2                       0.0                         0.0   \n",
              "\n",
              "   AMT_REQ_CREDIT_BUREAU_MON  AMT_REQ_CREDIT_BUREAU_QRT  \\\n",
              "0                        0.0                        0.0   \n",
              "1                        0.0                        0.0   \n",
              "2                        0.0                        0.0   \n",
              "\n",
              "   AMT_REQ_CREDIT_BUREAU_YEAR  \n",
              "0                         1.0  \n",
              "1                         0.0  \n",
              "2                         0.0  \n",
              "\n",
              "[3 rows x 122 columns]"
            ]
          },
          "metadata": {
            "tags": []
          },
          "execution_count": 172
        }
      ]
    },
    {
      "metadata": {
        "id": "FKp08gAHgRi1",
        "colab_type": "code",
        "colab": {
          "base_uri": "https://localhost:8080/",
          "height": 51
        },
        "outputId": "81c21cbb-1af0-459f-83b6-6f5a80eb0dac"
      },
      "cell_type": "code",
      "source": [
        "print(Counter(application_train_original['TARGET'])) #imbalanced issue\n",
        "application_train = pd.get_dummies(application_train_original)\n",
        "print(application_train.loc[:,application_train.columns[application_train.isnull().sum() > 0]].max().max() < 10000000)\n",
        "application_train = application_train.fillna(10000000)\n",
        "\n",
        "# print(application_train.isnull().values.any())\n",
        "# print(application_train.shape)\n",
        "# application_train = application_train.fillna(application_train.mean()['SK_ID_CURR':'AMT_REQ_CREDIT_BUREAU_YEAR'])\n",
        "\n",
        "\n",
        "# print(application_train.dtypes)"
      ],
      "execution_count": 43,
      "outputs": [
        {
          "output_type": "stream",
          "text": [
            "Counter({0: 282686, 1: 24825})\n",
            "True\n"
          ],
          "name": "stdout"
        }
      ]
    },
    {
      "metadata": {
        "id": "TL8odoonVVa5",
        "colab_type": "text"
      },
      "cell_type": "markdown",
      "source": [
        "# Main Table Modeling"
      ]
    },
    {
      "metadata": {
        "id": "-fuDDsO_kSlN",
        "colab_type": "text"
      },
      "cell_type": "markdown",
      "source": [
        "##Linear Regression"
      ]
    },
    {
      "metadata": {
        "id": "FebzMkBMOxX2",
        "colab_type": "code",
        "colab": {}
      },
      "cell_type": "code",
      "source": [
        "application_train = pd.get_dummies(application_train_original)\n",
        "application_train = application_train.fillna(application_train.mean()['SK_ID_CURR':'AMT_REQ_CREDIT_BUREAU_YEAR'])\n",
        "application_data = application_train.drop(columns=['SK_ID_CURR', 'TARGET'])\n",
        "application_target = application_train['TARGET']\n",
        "x_train, x_test, y_train, y_test = train_test_split(application_data, application_target, test_size= 0.25, random_state = 0)"
      ],
      "execution_count": 0,
      "outputs": []
    },
    {
      "metadata": {
        "id": "zvMrGQV1Q0d1",
        "colab_type": "code",
        "colab": {}
      },
      "cell_type": "code",
      "source": [
        "model_logit = LogisticRegression(class_weight = 'balanced')\n",
        "model_logit.fit(x_train,y_train)\n",
        "logit_score_train = metrics.roc_auc_score(y_train, model_logit.predict(x_train))\n",
        "logit_score_train = metrics.roc_auc_score(y_test, model_logit.predict(x_test))\n",
        "\n",
        "logit_score_test = model_logit.score(x_test,y_test) \n",
        "logit_cm_test = metrics.confusion_matrix(y_test, model_logit.predict(x_test))\n",
        "accuracy_check(logit_score, logit_cm)"
      ],
      "execution_count": 0,
      "outputs": []
    },
    {
      "metadata": {
        "id": "zah6BOdKDrNs",
        "colab_type": "text"
      },
      "cell_type": "markdown",
      "source": [
        ""
      ]
    },
    {
      "metadata": {
        "id": "Ms3pkjuGOX0L",
        "colab_type": "text"
      },
      "cell_type": "markdown",
      "source": [
        "## Random Forest\n"
      ]
    },
    {
      "metadata": {
        "id": "UdC1XxXAiM2M",
        "colab_type": "text"
      },
      "cell_type": "markdown",
      "source": [
        "**Model V1**\n",
        "\n",
        "\n",
        "</b> Feature - Main Table</br>\n",
        "</b> Optimal Tuning</br>\n",
        "\n",
        "* </b> max_depth: 10 n_tree: 20 max_feature: None train_roc: 0.816 val_roc: 0.733 </br>\n",
        "* </b>  max_depth: 10 n_tree: 70 max_feature: 48 train_roc: 0.816 val_roc: 0.741</b> \n",
        "\n",
        "\n",
        "\n",
        "\n",
        "\n"
      ]
    },
    {
      "metadata": {
        "id": "Ev2BLhjSixZM",
        "colab_type": "code",
        "colab": {}
      },
      "cell_type": "code",
      "source": [
        "x_train_ori, x_test, y_train_ori, y_test  = train_test_split(application_data, application_target, test_size = 0.1, random_state = 1)\n",
        "x_train, x_val, y_train, y_val = train_test_split(x_train_ori, y_train_ori, test_size = 0.25, random_state = 1)"
      ],
      "execution_count": 0,
      "outputs": []
    },
    {
      "metadata": {
        "id": "C6rQQdYGOZvy",
        "colab_type": "code",
        "colab": {}
      },
      "cell_type": "code",
      "source": [
        "model_rf_version = []\n",
        "para_max_depth = []\n",
        "para_n_tree = []\n",
        "para_max_feature = []\n",
        "metric_roc_val = []\n",
        "metric_roc_train = []\n",
        "\n",
        "i = 1\n",
        "for value_n_tree in [90, 120, 150]: \n",
        "  for value_max_depth in [10]:\n",
        "    for value_max_feature in [50]:\n",
        "      \n",
        "      model_rf = \\\n",
        "        RandomForestClassifier(class_weight = 'balanced', verbose = 0, n_jobs = -1, n_estimators = value_n_tree, \n",
        "                               max_depth = value_max_depth, max_features = value_max_feature)\n",
        "      model_rf.fit(x_train, y_train)\n",
        "      \n",
        "      roc_val = metrics.roc_auc_score(y_val, [j[1] for j in model_rf.predict_proba(x_val)]).round(3)\n",
        "      roc_train = metrics.roc_auc_score(y_train, [j[1] for j in model_rf.predict_proba(x_train)]).round(3)\n",
        "      \n",
        "      model_rf_version.append(model_rf)\n",
        "      para_max_depth.append(value_max_depth)\n",
        "      para_n_tree.append(value_n_tree)\n",
        "      para_max_feature.append(str(value_max_feature))\n",
        "      metric_roc_val.append(roc_val)\n",
        "      metric_roc_train.append(roc_train)\n",
        "      \n",
        "      print('iter', i, '=>', 'max_depth:', value_max_depth, 'n_tree:', value_n_tree, 'max_feature:', value_max_feature,\n",
        "            'train_roc:', roc_train, 'val_roc:', roc_val)\n",
        "      i += 1           "
      ],
      "execution_count": 0,
      "outputs": []
    },
    {
      "metadata": {
        "id": "efXxedZ0h9iI",
        "colab_type": "code",
        "colab": {}
      },
      "cell_type": "code",
      "source": [
        "model_rf_tuning = pd.DataFrame(para_max_depth, columns=['max_depth'])\n",
        "model_rf_tuning['n_tree'] = para_n_tree\n",
        "model_rf_tuning['max_feature'] = para_max_feature\n",
        "model_rf_tuning['n_tree'] = para_n_tree\n",
        "model_rf_tuning['roc_val'] = metric_roc_val\n",
        "model_rf_tuning['roc_train'] = metric_roc_train\n",
        "model_rf_tuning.to_csv('model_rf_tuning_indepth.csv', index = False, index_label = False)\n",
        "files.download('model_rf_tuning_indepth.csv')"
      ],
      "execution_count": 0,
      "outputs": []
    },
    {
      "metadata": {
        "id": "Yw9LnXqD3ZtZ",
        "colab_type": "code",
        "colab": {
          "base_uri": "https://localhost:8080/",
          "height": 359
        },
        "outputId": "c537a246-54fa-4f88-a8e3-22daaf190827"
      },
      "cell_type": "code",
      "source": [
        "feature_importance = pd.DataFrame(x_train.columns, columns=['feature_name'])\n",
        "feature_importance['importance'] = model_rf.feature_importances_.round(2)\n",
        "feature_importance = feature_importance.sort_values(by = 'importance', ascending = False)\n",
        "feature_importance.head(10)"
      ],
      "execution_count": 196,
      "outputs": [
        {
          "output_type": "execute_result",
          "data": {
            "text/html": [
              "<div>\n",
              "<style scoped>\n",
              "    .dataframe tbody tr th:only-of-type {\n",
              "        vertical-align: middle;\n",
              "    }\n",
              "\n",
              "    .dataframe tbody tr th {\n",
              "        vertical-align: top;\n",
              "    }\n",
              "\n",
              "    .dataframe thead th {\n",
              "        text-align: right;\n",
              "    }\n",
              "</style>\n",
              "<table border=\"1\" class=\"dataframe\">\n",
              "  <thead>\n",
              "    <tr style=\"text-align: right;\">\n",
              "      <th></th>\n",
              "      <th>feature_name</th>\n",
              "      <th>importance</th>\n",
              "    </tr>\n",
              "  </thead>\n",
              "  <tbody>\n",
              "    <tr>\n",
              "      <th>28</th>\n",
              "      <td>EXT_SOURCE_2</td>\n",
              "      <td>0.20</td>\n",
              "    </tr>\n",
              "    <tr>\n",
              "      <th>29</th>\n",
              "      <td>EXT_SOURCE_3</td>\n",
              "      <td>0.18</td>\n",
              "    </tr>\n",
              "    <tr>\n",
              "      <th>27</th>\n",
              "      <td>EXT_SOURCE_1</td>\n",
              "      <td>0.05</td>\n",
              "    </tr>\n",
              "    <tr>\n",
              "      <th>6</th>\n",
              "      <td>DAYS_BIRTH</td>\n",
              "      <td>0.04</td>\n",
              "    </tr>\n",
              "    <tr>\n",
              "      <th>7</th>\n",
              "      <td>DAYS_EMPLOYED</td>\n",
              "      <td>0.04</td>\n",
              "    </tr>\n",
              "    <tr>\n",
              "      <th>9</th>\n",
              "      <td>DAYS_ID_PUBLISH</td>\n",
              "      <td>0.02</td>\n",
              "    </tr>\n",
              "    <tr>\n",
              "      <th>129</th>\n",
              "      <td>NAME_EDUCATION_TYPE_Higher education</td>\n",
              "      <td>0.02</td>\n",
              "    </tr>\n",
              "    <tr>\n",
              "      <th>2</th>\n",
              "      <td>AMT_CREDIT</td>\n",
              "      <td>0.02</td>\n",
              "    </tr>\n",
              "    <tr>\n",
              "      <th>3</th>\n",
              "      <td>AMT_ANNUITY</td>\n",
              "      <td>0.02</td>\n",
              "    </tr>\n",
              "    <tr>\n",
              "      <th>4</th>\n",
              "      <td>AMT_GOODS_PRICE</td>\n",
              "      <td>0.02</td>\n",
              "    </tr>\n",
              "  </tbody>\n",
              "</table>\n",
              "</div>"
            ],
            "text/plain": [
              "                             feature_name  importance\n",
              "28                           EXT_SOURCE_2        0.20\n",
              "29                           EXT_SOURCE_3        0.18\n",
              "27                           EXT_SOURCE_1        0.05\n",
              "6                              DAYS_BIRTH        0.04\n",
              "7                           DAYS_EMPLOYED        0.04\n",
              "9                         DAYS_ID_PUBLISH        0.02\n",
              "129  NAME_EDUCATION_TYPE_Higher education        0.02\n",
              "2                              AMT_CREDIT        0.02\n",
              "3                             AMT_ANNUITY        0.02\n",
              "4                         AMT_GOODS_PRICE        0.02"
            ]
          },
          "metadata": {
            "tags": []
          },
          "execution_count": 196
        }
      ]
    },
    {
      "metadata": {
        "id": "8x3ZyEVFlAs0",
        "colab_type": "code",
        "colab": {
          "base_uri": "https://localhost:8080/",
          "height": 34
        },
        "outputId": "2938093b-5e44-434c-83d5-83e189927ce5"
      },
      "cell_type": "code",
      "source": [
        "metrics.roc_auc_score(y_test, [i[1].round(3) for i in model_rf_version[np.argsort(metric_roc_val)[-1]].predict_proba(x_test)]).round(3)"
      ],
      "execution_count": 218,
      "outputs": [
        {
          "output_type": "execute_result",
          "data": {
            "text/plain": [
              "0.749"
            ]
          },
          "metadata": {
            "tags": []
          },
          "execution_count": 218
        }
      ]
    },
    {
      "metadata": {
        "id": "Vr5PotRLEwho",
        "colab_type": "code",
        "colab": {}
      },
      "cell_type": "code",
      "source": [
        "model_rf_ultimate = RandomForestClassifier(class_weight = 'balanced', verbose = 0, n_jobs = -1, \n",
        "                                           n_estimators = 50, max_depth = 10, max_features = 65)\n",
        "model_rf_ultimate.fit(x_train, y_train)"
      ],
      "execution_count": 0,
      "outputs": []
    },
    {
      "metadata": {
        "id": "wja-x5LUQSQT",
        "colab_type": "text"
      },
      "cell_type": "markdown",
      "source": [
        "# Merge Bureau Table"
      ]
    },
    {
      "metadata": {
        "id": "yS-f5RMDQWwF",
        "colab_type": "code",
        "colab": {
          "base_uri": "https://localhost:8080/",
          "height": 2315
        },
        "outputId": "05fa05ac-3947-46cb-e490-9a7bdf543acc"
      },
      "cell_type": "code",
      "source": [
        "print(list(bureau.columns))\n",
        "#print(bureau.groupby(['SK_ID_BUREAU','CREDIT_ACTIVE']).size().unstack())\n",
        "\n",
        "print(bureau_balance.head(3))\n",
        "print(bureau_balance.groupby(['SK_ID_BUREAU','MONTHS_BALANCE']).size().unstack())\n"
      ],
      "execution_count": 22,
      "outputs": [
        {
          "output_type": "stream",
          "text": [
            "['SK_ID_CURR', 'SK_ID_BUREAU', 'CREDIT_ACTIVE', 'CREDIT_CURRENCY', 'DAYS_CREDIT', 'CREDIT_DAY_OVERDUE', 'DAYS_CREDIT_ENDDATE', 'DAYS_ENDDATE_FACT', 'AMT_CREDIT_MAX_OVERDUE', 'CNT_CREDIT_PROLONG', 'AMT_CREDIT_SUM', 'AMT_CREDIT_SUM_DEBT', 'AMT_CREDIT_SUM_LIMIT', 'AMT_CREDIT_SUM_OVERDUE', 'CREDIT_TYPE', 'DAYS_CREDIT_UPDATE', 'AMT_ANNUITY']\n",
            "   SK_ID_BUREAU  MONTHS_BALANCE STATUS\n",
            "0       5715448               0      C\n",
            "1       5715448              -1      C\n",
            "2       5715448              -2      C\n",
            "MONTHS_BALANCE  -96  -95  -94  -93  -92  -91  -90  -89  -88  -87 ...   -9   \\\n",
            "SK_ID_BUREAU                                                     ...         \n",
            "5001709         1.0  1.0  1.0  1.0  1.0  1.0  1.0  1.0  1.0  1.0 ...   1.0   \n",
            "5001710         NaN  NaN  NaN  NaN  NaN  NaN  NaN  NaN  NaN  NaN ...   1.0   \n",
            "5001711         NaN  NaN  NaN  NaN  NaN  NaN  NaN  NaN  NaN  NaN ...   NaN   \n",
            "5001712         NaN  NaN  NaN  NaN  NaN  NaN  NaN  NaN  NaN  NaN ...   1.0   \n",
            "5001713         NaN  NaN  NaN  NaN  NaN  NaN  NaN  NaN  NaN  NaN ...   1.0   \n",
            "5001714         NaN  NaN  NaN  NaN  NaN  NaN  NaN  NaN  NaN  NaN ...   1.0   \n",
            "5001715         NaN  NaN  NaN  NaN  NaN  NaN  NaN  NaN  NaN  NaN ...   1.0   \n",
            "5001716         NaN  NaN  NaN  NaN  NaN  NaN  NaN  NaN  NaN  NaN ...   1.0   \n",
            "5001717         NaN  NaN  NaN  NaN  NaN  NaN  NaN  NaN  NaN  NaN ...   1.0   \n",
            "5001718         NaN  NaN  NaN  NaN  NaN  NaN  NaN  NaN  NaN  NaN ...   1.0   \n",
            "5001719         NaN  NaN  NaN  NaN  NaN  NaN  NaN  NaN  NaN  NaN ...   1.0   \n",
            "5001720         NaN  NaN  NaN  NaN  NaN  NaN  NaN  NaN  NaN  NaN ...   1.0   \n",
            "5001721         NaN  NaN  NaN  NaN  NaN  NaN  NaN  NaN  NaN  NaN ...   1.0   \n",
            "5001722         NaN  NaN  NaN  NaN  NaN  NaN  NaN  NaN  NaN  NaN ...   1.0   \n",
            "5001723         NaN  NaN  NaN  NaN  NaN  NaN  NaN  NaN  NaN  NaN ...   1.0   \n",
            "5001724         NaN  NaN  NaN  NaN  NaN  NaN  NaN  NaN  NaN  NaN ...   1.0   \n",
            "5001725         NaN  NaN  NaN  NaN  NaN  NaN  NaN  NaN  NaN  NaN ...   NaN   \n",
            "5001726         NaN  NaN  NaN  NaN  NaN  NaN  NaN  NaN  NaN  NaN ...   1.0   \n",
            "5001727         NaN  NaN  1.0  1.0  1.0  1.0  1.0  1.0  1.0  1.0 ...   1.0   \n",
            "5001728         NaN  NaN  NaN  NaN  NaN  NaN  NaN  NaN  NaN  NaN ...   NaN   \n",
            "5001729         NaN  NaN  NaN  NaN  NaN  NaN  NaN  NaN  NaN  NaN ...   NaN   \n",
            "5001730         NaN  NaN  NaN  NaN  NaN  NaN  NaN  NaN  NaN  NaN ...   1.0   \n",
            "5001731         NaN  NaN  NaN  NaN  NaN  NaN  NaN  NaN  NaN  NaN ...   1.0   \n",
            "5001732         NaN  NaN  NaN  NaN  NaN  NaN  NaN  NaN  NaN  NaN ...   1.0   \n",
            "5001733         NaN  NaN  NaN  NaN  NaN  NaN  NaN  NaN  NaN  NaN ...   1.0   \n",
            "5001734         NaN  NaN  NaN  NaN  NaN  NaN  NaN  NaN  NaN  NaN ...   NaN   \n",
            "5001735         NaN  NaN  NaN  NaN  NaN  NaN  NaN  NaN  NaN  NaN ...   1.0   \n",
            "5001736         NaN  NaN  NaN  NaN  NaN  NaN  NaN  NaN  NaN  NaN ...   1.0   \n",
            "5001737         NaN  NaN  NaN  NaN  NaN  NaN  NaN  NaN  NaN  NaN ...   1.0   \n",
            "5001738         NaN  NaN  NaN  NaN  NaN  NaN  NaN  NaN  NaN  NaN ...   1.0   \n",
            "...             ...  ...  ...  ...  ...  ...  ...  ...  ...  ... ...   ...   \n",
            "6842859         NaN  NaN  NaN  NaN  NaN  NaN  NaN  NaN  NaN  NaN ...   1.0   \n",
            "6842860         NaN  NaN  NaN  NaN  NaN  NaN  NaN  NaN  NaN  NaN ...   1.0   \n",
            "6842861         NaN  NaN  NaN  NaN  NaN  NaN  NaN  NaN  NaN  NaN ...   1.0   \n",
            "6842862         NaN  NaN  NaN  NaN  NaN  NaN  NaN  NaN  NaN  NaN ...   1.0   \n",
            "6842863         NaN  NaN  NaN  NaN  NaN  NaN  NaN  NaN  NaN  NaN ...   1.0   \n",
            "6842864         NaN  NaN  NaN  NaN  NaN  NaN  NaN  NaN  NaN  NaN ...   1.0   \n",
            "6842865         NaN  NaN  NaN  NaN  NaN  NaN  NaN  NaN  NaN  NaN ...   1.0   \n",
            "6842866         NaN  NaN  NaN  NaN  NaN  NaN  NaN  NaN  NaN  NaN ...   NaN   \n",
            "6842867         NaN  NaN  NaN  NaN  NaN  NaN  NaN  NaN  NaN  NaN ...   1.0   \n",
            "6842868         NaN  NaN  NaN  NaN  NaN  NaN  NaN  NaN  NaN  NaN ...   1.0   \n",
            "6842869         NaN  NaN  NaN  NaN  NaN  NaN  NaN  NaN  NaN  NaN ...   1.0   \n",
            "6842870         NaN  NaN  NaN  NaN  NaN  NaN  NaN  NaN  NaN  NaN ...   1.0   \n",
            "6842871         NaN  NaN  NaN  NaN  NaN  NaN  NaN  NaN  NaN  NaN ...   1.0   \n",
            "6842872         NaN  NaN  NaN  NaN  NaN  NaN  NaN  NaN  NaN  1.0 ...   1.0   \n",
            "6842873         NaN  NaN  NaN  NaN  NaN  NaN  NaN  NaN  NaN  NaN ...   1.0   \n",
            "6842874         NaN  NaN  NaN  NaN  NaN  NaN  NaN  1.0  1.0  1.0 ...   1.0   \n",
            "6842875         NaN  NaN  NaN  NaN  NaN  NaN  NaN  NaN  NaN  NaN ...   1.0   \n",
            "6842876         NaN  NaN  NaN  NaN  NaN  NaN  NaN  NaN  NaN  NaN ...   1.0   \n",
            "6842877         NaN  NaN  NaN  NaN  NaN  NaN  NaN  NaN  NaN  NaN ...   1.0   \n",
            "6842878         NaN  NaN  NaN  NaN  NaN  NaN  NaN  NaN  NaN  NaN ...   1.0   \n",
            "6842879         NaN  NaN  NaN  NaN  NaN  NaN  NaN  NaN  NaN  NaN ...   1.0   \n",
            "6842880         NaN  NaN  NaN  NaN  NaN  NaN  NaN  NaN  NaN  NaN ...   1.0   \n",
            "6842881         NaN  NaN  NaN  NaN  NaN  NaN  NaN  NaN  NaN  NaN ...   1.0   \n",
            "6842882         NaN  NaN  NaN  NaN  NaN  NaN  NaN  NaN  NaN  NaN ...   NaN   \n",
            "6842883         NaN  NaN  NaN  NaN  NaN  NaN  NaN  NaN  NaN  NaN ...   1.0   \n",
            "6842884         NaN  NaN  NaN  NaN  NaN  NaN  NaN  NaN  NaN  NaN ...   1.0   \n",
            "6842885         NaN  NaN  NaN  NaN  NaN  NaN  NaN  NaN  NaN  NaN ...   1.0   \n",
            "6842886         NaN  NaN  NaN  NaN  NaN  NaN  NaN  NaN  NaN  NaN ...   1.0   \n",
            "6842887         NaN  NaN  NaN  NaN  NaN  NaN  NaN  NaN  NaN  NaN ...   1.0   \n",
            "6842888         NaN  NaN  NaN  NaN  NaN  NaN  NaN  NaN  NaN  NaN ...   1.0   \n",
            "\n",
            "MONTHS_BALANCE  -8   -7   -6   -5   -4   -3   -2   -1    0   \n",
            "SK_ID_BUREAU                                                 \n",
            "5001709         1.0  1.0  1.0  1.0  1.0  1.0  1.0  1.0  1.0  \n",
            "5001710         1.0  1.0  1.0  1.0  1.0  1.0  1.0  1.0  1.0  \n",
            "5001711         NaN  NaN  NaN  NaN  NaN  1.0  1.0  1.0  1.0  \n",
            "5001712         1.0  1.0  1.0  1.0  1.0  1.0  1.0  1.0  1.0  \n",
            "5001713         1.0  1.0  1.0  1.0  1.0  1.0  1.0  1.0  1.0  \n",
            "5001714         1.0  1.0  1.0  1.0  1.0  1.0  1.0  1.0  1.0  \n",
            "5001715         1.0  1.0  1.0  1.0  1.0  1.0  1.0  1.0  1.0  \n",
            "5001716         1.0  1.0  1.0  1.0  1.0  1.0  1.0  1.0  1.0  \n",
            "5001717         1.0  1.0  1.0  1.0  1.0  1.0  1.0  1.0  1.0  \n",
            "5001718         1.0  1.0  1.0  1.0  1.0  1.0  1.0  1.0  1.0  \n",
            "5001719         1.0  1.0  1.0  1.0  1.0  1.0  1.0  1.0  1.0  \n",
            "5001720         1.0  1.0  1.0  1.0  1.0  1.0  1.0  1.0  1.0  \n",
            "5001721         1.0  1.0  1.0  1.0  1.0  1.0  1.0  1.0  1.0  \n",
            "5001722         1.0  1.0  1.0  1.0  1.0  1.0  1.0  1.0  1.0  \n",
            "5001723         1.0  1.0  1.0  1.0  1.0  1.0  1.0  1.0  1.0  \n",
            "5001724         1.0  1.0  1.0  1.0  1.0  1.0  1.0  1.0  1.0  \n",
            "5001725         NaN  1.0  1.0  1.0  1.0  1.0  1.0  1.0  1.0  \n",
            "5001726         1.0  1.0  1.0  1.0  1.0  1.0  1.0  1.0  1.0  \n",
            "5001727         1.0  1.0  1.0  1.0  1.0  1.0  1.0  1.0  1.0  \n",
            "5001728         NaN  NaN  NaN  NaN  NaN  NaN  NaN  NaN  1.0  \n",
            "5001729         NaN  NaN  1.0  1.0  1.0  1.0  1.0  1.0  1.0  \n",
            "5001730         1.0  1.0  1.0  1.0  1.0  1.0  1.0  1.0  1.0  \n",
            "5001731         1.0  1.0  1.0  1.0  1.0  1.0  1.0  1.0  1.0  \n",
            "5001732         1.0  1.0  1.0  1.0  1.0  1.0  1.0  1.0  1.0  \n",
            "5001733         1.0  1.0  1.0  1.0  1.0  1.0  1.0  1.0  1.0  \n",
            "5001734         NaN  NaN  NaN  NaN  NaN  NaN  1.0  1.0  1.0  \n",
            "5001735         1.0  1.0  1.0  1.0  1.0  1.0  1.0  1.0  1.0  \n",
            "5001736         1.0  1.0  1.0  1.0  1.0  1.0  1.0  1.0  1.0  \n",
            "5001737         1.0  1.0  1.0  1.0  1.0  1.0  1.0  1.0  1.0  \n",
            "5001738         1.0  1.0  1.0  1.0  1.0  1.0  1.0  1.0  1.0  \n",
            "...             ...  ...  ...  ...  ...  ...  ...  ...  ...  \n",
            "6842859         1.0  1.0  1.0  1.0  1.0  1.0  1.0  1.0  1.0  \n",
            "6842860         1.0  1.0  1.0  1.0  1.0  1.0  1.0  1.0  1.0  \n",
            "6842861         1.0  1.0  1.0  1.0  1.0  1.0  1.0  1.0  1.0  \n",
            "6842862         1.0  1.0  1.0  1.0  1.0  1.0  1.0  1.0  1.0  \n",
            "6842863         1.0  1.0  1.0  1.0  1.0  1.0  1.0  1.0  1.0  \n",
            "6842864         1.0  1.0  1.0  1.0  1.0  1.0  1.0  1.0  1.0  \n",
            "6842865         1.0  1.0  1.0  1.0  1.0  1.0  1.0  1.0  1.0  \n",
            "6842866         NaN  NaN  NaN  NaN  1.0  1.0  1.0  1.0  1.0  \n",
            "6842867         1.0  1.0  1.0  1.0  1.0  1.0  1.0  1.0  1.0  \n",
            "6842868         1.0  1.0  1.0  1.0  1.0  1.0  1.0  1.0  1.0  \n",
            "6842869         1.0  1.0  1.0  1.0  1.0  1.0  1.0  1.0  1.0  \n",
            "6842870         1.0  1.0  1.0  1.0  1.0  1.0  1.0  1.0  1.0  \n",
            "6842871         1.0  1.0  1.0  1.0  1.0  1.0  1.0  1.0  1.0  \n",
            "6842872         1.0  1.0  1.0  1.0  1.0  1.0  1.0  1.0  1.0  \n",
            "6842873         1.0  1.0  1.0  1.0  1.0  1.0  1.0  1.0  1.0  \n",
            "6842874         1.0  1.0  1.0  1.0  1.0  1.0  1.0  1.0  1.0  \n",
            "6842875         1.0  1.0  1.0  1.0  1.0  1.0  1.0  1.0  1.0  \n",
            "6842876         1.0  1.0  1.0  1.0  1.0  1.0  1.0  1.0  1.0  \n",
            "6842877         1.0  1.0  1.0  1.0  1.0  1.0  1.0  1.0  1.0  \n",
            "6842878         1.0  1.0  1.0  1.0  1.0  1.0  1.0  1.0  1.0  \n",
            "6842879         1.0  1.0  1.0  1.0  1.0  1.0  1.0  1.0  1.0  \n",
            "6842880         1.0  1.0  1.0  1.0  1.0  1.0  1.0  1.0  1.0  \n",
            "6842881         1.0  1.0  1.0  1.0  1.0  1.0  1.0  1.0  1.0  \n",
            "6842882         NaN  1.0  1.0  1.0  1.0  1.0  1.0  1.0  1.0  \n",
            "6842883         1.0  1.0  1.0  1.0  1.0  1.0  1.0  1.0  1.0  \n",
            "6842884         1.0  1.0  1.0  1.0  1.0  1.0  1.0  1.0  1.0  \n",
            "6842885         1.0  1.0  1.0  1.0  1.0  1.0  1.0  1.0  1.0  \n",
            "6842886         1.0  1.0  1.0  1.0  1.0  1.0  1.0  1.0  1.0  \n",
            "6842887         1.0  1.0  1.0  1.0  1.0  1.0  1.0  1.0  1.0  \n",
            "6842888         1.0  1.0  1.0  1.0  1.0  1.0  1.0  1.0  1.0  \n",
            "\n",
            "[817395 rows x 97 columns]\n"
          ],
          "name": "stdout"
        }
      ]
    },
    {
      "metadata": {
        "id": "52pfmRuYSckh",
        "colab_type": "code",
        "colab": {}
      },
      "cell_type": "code",
      "source": [
        ""
      ],
      "execution_count": 0,
      "outputs": []
    }
  ]
}
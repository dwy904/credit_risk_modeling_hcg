{
  "nbformat": 4,
  "nbformat_minor": 0,
  "metadata": {
    "colab": {
      "name": "Home_Credit_Default_Risk.ipynb",
      "version": "0.3.2",
      "provenance": [],
      "collapsed_sections": [],
      "include_colab_link": true
    },
    "kernelspec": {
      "name": "python3",
      "display_name": "Python 3"
    }
  },
  "cells": [
    {
      "cell_type": "markdown",
      "metadata": {
        "id": "view-in-github",
        "colab_type": "text"
      },
      "source": [
        "[View in Colaboratory](https://colab.research.google.com/github/dwy904/credit_risk_modeling_hcg/blob/master/Home_Credit_Default_Risk.ipynb)"
      ]
    },
    {
      "metadata": {
        "id": "mebAIC2VKsq_",
        "colab_type": "code",
        "colab": {
          "base_uri": "https://localhost:8080/",
          "height": 360
        },
        "outputId": "a1886025-f563-4195-e0de-a18bd1b5de94"
      },
      "cell_type": "code",
      "source": [
        "# !pip install kaggle\n",
        "# !pip install boto3\n",
        "# !pip install pandas\n",
        "# !pip install numpy\n",
        "\n",
        "# !export PATH = \"/content/.local/bin/kaggle\"\n",
        "# !export PATH = \"/content/.local/lib/python3.6/site-packages/kaggle-1.3.12.dist-info/*\"\n",
        "# !export PATH = \"/content/.local/lib/python3.6/site-packages/kaggle/*\"\n",
        "# !ln -s ~/.local/bin/kaggle /usr/bin/kaggle\n",
        "# !wget https://github.com/fatenaught/home_risk/blob/master/kaggle.json\n",
        "# !cp kaggle.json .kaggle \n",
        "# !chmod 755 .kaggle/kaggle.json\n",
        "# !kaggle competitions download -c home-credit-default-risk\n"
      ],
      "execution_count": 67,
      "outputs": [
        {
          "output_type": "stream",
          "text": [
            "Warning: Your Kaggle API key is readable by other users on this system! To fix this, you can run 'chmod 600 /content/.kaggle/kaggle.json'\r\n",
            "Unauthorized: you must download an API key from https://www.kaggle.com/<username>/account\r\n",
            "Then put kaggle.json in the folder /content/.kaggle\n",
            "total 88\n",
            "drwxr-xr-x 1 root root  4096 Jul  3 22:30 .\n",
            "drwxr-xr-x 1 root root  4096 Jul  3 16:55 ..\n",
            "drwx------ 4 root root  4096 Jul  3 16:57 .cache\n",
            "drwxr-xr-x 3 root root  4096 Jul  3 16:57 .config\n",
            "drwxr-xr-x 3 root root  4096 Jul  2 16:56 datalab\n",
            "drwxr-xr-x 4 root root  4096 Jul  3 16:56 .forever\n",
            "drwxr-xr-x 5 root root  4096 Jul  3 16:57 .ipython\n",
            "drwxr-xr-x 2 root root  4096 Jul  3 22:30 .kaggle\n",
            "-rw-r--r-- 1 root root 41828 Jul  3 22:11 kaggle.json\n",
            "drwx------ 6 root root  4096 Jul  3 16:59 .local\n",
            "-rw-r--r-- 1 root root   165 Jul  3 22:11 .wget-hsts\n",
            "total 52\n",
            "drwxr-xr-x 2 root root  4096 Jul  3 22:30 .\n",
            "drwxr-xr-x 1 root root  4096 Jul  3 22:30 ..\n",
            "-rwxr-xr-x 1 root root 41828 Jul  3 22:30 kaggle.json\n"
          ],
          "name": "stdout"
        }
      ]
    },
    {
      "metadata": {
        "id": "UNjkGStyOP5c",
        "colab_type": "text"
      },
      "cell_type": "markdown",
      "source": [
        "# Functions"
      ]
    },
    {
      "metadata": {
        "id": "uCj5mDckOTmW",
        "colab_type": "code",
        "colab": {}
      },
      "cell_type": "code",
      "source": [
        "def accuracy_check(score,cm):\n",
        "  plt.figure(figsize=(9,9))\n",
        "  sns.heatmap(cm, annot=True, fmt=\".3f\", linewidths=.5, square = True, cmap = 'Blues_r');\n",
        "  plt.ylabel('Actual label');\n",
        "  plt.xlabel('Predicted label');\n",
        "  all_sample_title = 'Accuracy Score: {0}'.format(score)\n",
        "  plt.title(all_sample_title, size = 15);"
      ],
      "execution_count": 0,
      "outputs": []
    },
    {
      "metadata": {
        "id": "4TXZQ2DrjHE3",
        "colab_type": "text"
      },
      "cell_type": "markdown",
      "source": [
        "# Data Setup"
      ]
    },
    {
      "metadata": {
        "id": "__tBkynrqbnk",
        "colab_type": "code",
        "colab": {}
      },
      "cell_type": "code",
      "source": [
        "import pandas as pd\n",
        "import numpy as np\n",
        "from collections import Counter\n",
        "import matplotlib.pyplot as plt\n",
        "import seaborn as sns\n",
        "from sklearn.model_selection import train_test_split\n",
        "from sklearn.linear_model import LogisticRegression\n",
        "from sklearn import metrics\n",
        "from sklearn.ensemble import RandomForestClassifier"
      ],
      "execution_count": 0,
      "outputs": []
    },
    {
      "metadata": {
        "id": "ANCoolLYjV8l",
        "colab_type": "code",
        "colab": {}
      },
      "cell_type": "code",
      "source": [
        "application_train_original = pd.read_csv(\"https://s3.amazonaws.com/home-risk/application_train.csv\")\n",
        "application_test = pd.read_csv(\"https://s3.amazonaws.com/home-risk/application_test.csv\")\n",
        "bureau = pd.read_csv(\"https://s3.amazonaws.com/home-risk/bureau.csv\")\n",
        "bureau_balance = pd.read_csv(\"https://s3.amazonaws.com/home-risk/bureau_balance.csv\")\n",
        "credit_card_balance = pd.read_csv(\"https://s3.amazonaws.com/home-risk/credit_card_balance.csv\")\n",
        "install_payments = pd.read_csv(\"https://s3.amazonaws.com/home-risk/installments_payments.csv\")\n",
        "previous_applications = pd.read_csv(\"https://s3.amazonaws.com/home-risk/previous_application.csv\")\n",
        "pos_cash = pd.read_csv(\"https://s3.amazonaws.com/home-risk/POS_CASH_balance.csv\")"
      ],
      "execution_count": 0,
      "outputs": []
    },
    {
      "metadata": {
        "id": "fTTj8n4axp2h",
        "colab_type": "code",
        "colab": {
          "base_uri": "https://localhost:8080/",
          "height": 191
        },
        "outputId": "b2f5ca3c-bb01-49e1-e4cb-28a7492e043e"
      },
      "cell_type": "code",
      "source": [
        "application_train_original.head(3)"
      ],
      "execution_count": 16,
      "outputs": [
        {
          "output_type": "execute_result",
          "data": {
            "text/html": [
              "<div>\n",
              "<style scoped>\n",
              "    .dataframe tbody tr th:only-of-type {\n",
              "        vertical-align: middle;\n",
              "    }\n",
              "\n",
              "    .dataframe tbody tr th {\n",
              "        vertical-align: top;\n",
              "    }\n",
              "\n",
              "    .dataframe thead th {\n",
              "        text-align: right;\n",
              "    }\n",
              "</style>\n",
              "<table border=\"1\" class=\"dataframe\">\n",
              "  <thead>\n",
              "    <tr style=\"text-align: right;\">\n",
              "      <th></th>\n",
              "      <th>SK_ID_CURR</th>\n",
              "      <th>TARGET</th>\n",
              "      <th>NAME_CONTRACT_TYPE</th>\n",
              "      <th>CODE_GENDER</th>\n",
              "      <th>FLAG_OWN_CAR</th>\n",
              "      <th>FLAG_OWN_REALTY</th>\n",
              "      <th>CNT_CHILDREN</th>\n",
              "      <th>AMT_INCOME_TOTAL</th>\n",
              "      <th>AMT_CREDIT</th>\n",
              "      <th>AMT_ANNUITY</th>\n",
              "      <th>...</th>\n",
              "      <th>FLAG_DOCUMENT_18</th>\n",
              "      <th>FLAG_DOCUMENT_19</th>\n",
              "      <th>FLAG_DOCUMENT_20</th>\n",
              "      <th>FLAG_DOCUMENT_21</th>\n",
              "      <th>AMT_REQ_CREDIT_BUREAU_HOUR</th>\n",
              "      <th>AMT_REQ_CREDIT_BUREAU_DAY</th>\n",
              "      <th>AMT_REQ_CREDIT_BUREAU_WEEK</th>\n",
              "      <th>AMT_REQ_CREDIT_BUREAU_MON</th>\n",
              "      <th>AMT_REQ_CREDIT_BUREAU_QRT</th>\n",
              "      <th>AMT_REQ_CREDIT_BUREAU_YEAR</th>\n",
              "    </tr>\n",
              "  </thead>\n",
              "  <tbody>\n",
              "    <tr>\n",
              "      <th>0</th>\n",
              "      <td>100002</td>\n",
              "      <td>1</td>\n",
              "      <td>Cash loans</td>\n",
              "      <td>M</td>\n",
              "      <td>N</td>\n",
              "      <td>Y</td>\n",
              "      <td>0</td>\n",
              "      <td>202500.0</td>\n",
              "      <td>406597.5</td>\n",
              "      <td>24700.5</td>\n",
              "      <td>...</td>\n",
              "      <td>0</td>\n",
              "      <td>0</td>\n",
              "      <td>0</td>\n",
              "      <td>0</td>\n",
              "      <td>0.0</td>\n",
              "      <td>0.0</td>\n",
              "      <td>0.0</td>\n",
              "      <td>0.0</td>\n",
              "      <td>0.0</td>\n",
              "      <td>1.0</td>\n",
              "    </tr>\n",
              "    <tr>\n",
              "      <th>1</th>\n",
              "      <td>100003</td>\n",
              "      <td>0</td>\n",
              "      <td>Cash loans</td>\n",
              "      <td>F</td>\n",
              "      <td>N</td>\n",
              "      <td>N</td>\n",
              "      <td>0</td>\n",
              "      <td>270000.0</td>\n",
              "      <td>1293502.5</td>\n",
              "      <td>35698.5</td>\n",
              "      <td>...</td>\n",
              "      <td>0</td>\n",
              "      <td>0</td>\n",
              "      <td>0</td>\n",
              "      <td>0</td>\n",
              "      <td>0.0</td>\n",
              "      <td>0.0</td>\n",
              "      <td>0.0</td>\n",
              "      <td>0.0</td>\n",
              "      <td>0.0</td>\n",
              "      <td>0.0</td>\n",
              "    </tr>\n",
              "    <tr>\n",
              "      <th>2</th>\n",
              "      <td>100004</td>\n",
              "      <td>0</td>\n",
              "      <td>Revolving loans</td>\n",
              "      <td>M</td>\n",
              "      <td>Y</td>\n",
              "      <td>Y</td>\n",
              "      <td>0</td>\n",
              "      <td>67500.0</td>\n",
              "      <td>135000.0</td>\n",
              "      <td>6750.0</td>\n",
              "      <td>...</td>\n",
              "      <td>0</td>\n",
              "      <td>0</td>\n",
              "      <td>0</td>\n",
              "      <td>0</td>\n",
              "      <td>0.0</td>\n",
              "      <td>0.0</td>\n",
              "      <td>0.0</td>\n",
              "      <td>0.0</td>\n",
              "      <td>0.0</td>\n",
              "      <td>0.0</td>\n",
              "    </tr>\n",
              "  </tbody>\n",
              "</table>\n",
              "<p>3 rows × 122 columns</p>\n",
              "</div>"
            ],
            "text/plain": [
              "   SK_ID_CURR  TARGET NAME_CONTRACT_TYPE CODE_GENDER FLAG_OWN_CAR  \\\n",
              "0      100002       1         Cash loans           M            N   \n",
              "1      100003       0         Cash loans           F            N   \n",
              "2      100004       0    Revolving loans           M            Y   \n",
              "\n",
              "  FLAG_OWN_REALTY  CNT_CHILDREN  AMT_INCOME_TOTAL  AMT_CREDIT  AMT_ANNUITY  \\\n",
              "0               Y             0          202500.0    406597.5      24700.5   \n",
              "1               N             0          270000.0   1293502.5      35698.5   \n",
              "2               Y             0           67500.0    135000.0       6750.0   \n",
              "\n",
              "              ...              FLAG_DOCUMENT_18 FLAG_DOCUMENT_19  \\\n",
              "0             ...                             0                0   \n",
              "1             ...                             0                0   \n",
              "2             ...                             0                0   \n",
              "\n",
              "  FLAG_DOCUMENT_20 FLAG_DOCUMENT_21 AMT_REQ_CREDIT_BUREAU_HOUR  \\\n",
              "0                0                0                        0.0   \n",
              "1                0                0                        0.0   \n",
              "2                0                0                        0.0   \n",
              "\n",
              "  AMT_REQ_CREDIT_BUREAU_DAY  AMT_REQ_CREDIT_BUREAU_WEEK  \\\n",
              "0                       0.0                         0.0   \n",
              "1                       0.0                         0.0   \n",
              "2                       0.0                         0.0   \n",
              "\n",
              "   AMT_REQ_CREDIT_BUREAU_MON  AMT_REQ_CREDIT_BUREAU_QRT  \\\n",
              "0                        0.0                        0.0   \n",
              "1                        0.0                        0.0   \n",
              "2                        0.0                        0.0   \n",
              "\n",
              "   AMT_REQ_CREDIT_BUREAU_YEAR  \n",
              "0                         1.0  \n",
              "1                         0.0  \n",
              "2                         0.0  \n",
              "\n",
              "[3 rows x 122 columns]"
            ]
          },
          "metadata": {
            "tags": []
          },
          "execution_count": 16
        }
      ]
    },
    {
      "metadata": {
        "id": "FKp08gAHgRi1",
        "colab_type": "code",
        "colab": {
          "base_uri": "https://localhost:8080/",
          "height": 51
        },
        "outputId": "81c21cbb-1af0-459f-83b6-6f5a80eb0dac"
      },
      "cell_type": "code",
      "source": [
        "print(Counter(application_train_original['TARGET'])) #imbalanced issue\n",
        "application_train = pd.get_dummies(application_train_original)\n",
        "print(application_train.loc[:,application_train.columns[application_train.isnull().sum() > 0]].max().max() < 10000000)\n",
        "application_train = application_train.fillna(10000000)\n",
        "\n",
        "# print(application_train.isnull().values.any())\n",
        "# print(application_train.shape)\n",
        "# application_train = application_train.fillna(application_train.mean()['SK_ID_CURR':'AMT_REQ_CREDIT_BUREAU_YEAR'])\n",
        "# print(application_train.dtypes)"
      ],
      "execution_count": 43,
      "outputs": [
        {
          "output_type": "stream",
          "text": [
            "Counter({0: 282686, 1: 24825})\n",
            "True\n"
          ],
          "name": "stdout"
        }
      ]
    },
    {
      "metadata": {
        "id": "TL8odoonVVa5",
        "colab_type": "text"
      },
      "cell_type": "markdown",
      "source": [
        "# Models on Application Only\n",
        "\n",
        "Linear Regression"
      ]
    },
    {
      "metadata": {
        "id": "FebzMkBMOxX2",
        "colab_type": "code",
        "colab": {}
      },
      "cell_type": "code",
      "source": [
        "application_data = application_train.drop(columns=['SK_ID_CURR', 'TARGET'])\n",
        "application_target = application_train['TARGET']"
      ],
      "execution_count": 0,
      "outputs": []
    },
    {
      "metadata": {
        "id": "zvMrGQV1Q0d1",
        "colab_type": "code",
        "colab": {
          "base_uri": "https://localhost:8080/",
          "height": 51
        },
        "outputId": "a429c60c-1200-4e9c-aeb7-e8aedb8b97e3"
      },
      "cell_type": "code",
      "source": [
        "x_train, x_test, y_train, y_test = train_test_split(application_data, application_target, test_size= 0.25, random_state = 0)\n",
        "model_logit = LogisticRegression(class_weight = 'balanced')\n",
        "model_logit.fit(x_train,y_train)"
      ],
      "execution_count": 44,
      "outputs": [
        {
          "output_type": "stream",
          "text": [
            "[[0.55479113 0.44520887]\n",
            " [0.40814316 0.59185684]]\n"
          ],
          "name": "stdout"
        }
      ]
    },
    {
      "metadata": {
        "id": "aGGvzFbGOzrf",
        "colab_type": "code",
        "colab": {}
      },
      "cell_type": "code",
      "source": [
        "application_prediction = model_logit.predict(x_test)\n",
        "logit_score = model_logit.score(x_test,y_test)\n",
        "logit_cm = metrics.confusion_matrix(y_test,application_prediction)\n",
        "logit_cm_normalized = logit_cm.astype('float')/logit_cm.sum(axis = 1)[:,np.newaxis]\n",
        "print(logit_cm_normalized)"
      ],
      "execution_count": 0,
      "outputs": []
    },
    {
      "metadata": {
        "id": "Smr_78hctqz2",
        "colab_type": "code",
        "colab": {
          "base_uri": "https://localhost:8080/",
          "height": 571
        },
        "outputId": "87aa8282-e80e-4b7d-c4f3-4e86d7b42ae7"
      },
      "cell_type": "code",
      "source": [
        "print(logit_score)\n",
        "print(logit_cm_normalized)\n",
        "accuracy_check(logit_score,logit_cm_normalized)"
      ],
      "execution_count": 45,
      "outputs": [
        {
          "output_type": "stream",
          "text": [
            "0.5577278285075054\n",
            "[[0.55479113 0.44520887]\n",
            " [0.40814316 0.59185684]]\n"
          ],
          "name": "stdout"
        },
        {
          "output_type": "display_data",
          "data": {
            "image/png": "[encoded data removed]",
            "text/plain": [
              "<matplotlib.figure.Figure object at 0x7f5e1f292748>"
            ]
          },
          "metadata": {
            "tags": []
          }
        }
      ]
    },
    {
      "metadata": {
        "id": "Ms3pkjuGOX0L",
        "colab_type": "text"
      },
      "cell_type": "markdown",
      "source": [
        "**Random Forest**"
      ]
    },
    {
      "metadata": {
        "id": "9cJeodSiRQTQ",
        "colab_type": "code",
        "colab": {}
      },
      "cell_type": "code",
      "source": [
        "x_train_ori, x_test, y_train_ori, y_test  = train_test_split(application_data, application_target, test_size = 0.1, random_state=1)\n",
        "x_train, x_val, y_train, y_val = train_test_split(x_train_ori, y_train_ori, test_size=0.25, random_state=1)"
      ],
      "execution_count": 0,
      "outputs": []
    },
    {
      "metadata": {
        "id": "C6rQQdYGOZvy",
        "colab_type": "code",
        "colab": {
          "base_uri": "https://localhost:8080/",
          "height": 1904
        },
        "outputId": "a25a94e5-e0dd-4b91-fb98-8b6020b550aa"
      },
      "cell_type": "code",
      "source": [
        "model_rf_version = []\n",
        "para_max_depth = []\n",
        "para_n_tree = []\n",
        "para_max_feature = []\n",
        "metric_roc_val = []\n",
        "metric_roc_train = []\n",
        "\n",
        "i = 1\n",
        "for value_n_tree in [5, 10, 15, 20, 25, 30]:\n",
        "  for value_max_depth in [5, 10, 15, 20, 25, 30, None]:\n",
        "    for value_max_feature in ['sqrt', 'log2', None]:\n",
        "      \n",
        "      model_rf = \\\n",
        "        RandomForestClassifier(class_weight = 'balanced', verbose = 0, n_jobs = -1, n_estimators = value_n_tree, \n",
        "                               max_depth = value_max_depth, max_features = value_max_feature)\n",
        "      model_rf.fit(x_train, y_train)\n",
        "      \n",
        "      roc_val = metrics.roc_auc_score(y_val, [i[1] for i in model_rf.predict_proba(x_val)]).round(3)\n",
        "      roc_train = metrics.roc_auc_score(y_train, [i[1] for i in model_rf.predict_proba(x_train)]).round(3)\n",
        "      \n",
        "      model_rf_version.append(model_rf)\n",
        "      para_max_depth.append(value_max_depth)\n",
        "      para_n_tree.append(value_n_tree)\n",
        "      para_max_feature.append(str(value_max_feature))\n",
        "      metric_roc_val.append(roc_val)\n",
        "      metric_roc_train.append(roc_train)\n",
        "      \n",
        "      print('iter', i, '=>', 'max_depth:', value_max_depth, 'n_tree:', value_n_tree, 'max_feature:', value_max_feature,\n",
        "            'train_roc:', roc_train, 'val_roc:', roc_val)\n",
        "      i += 1           "
      ],
      "execution_count": 0,
      "outputs": [
        {
          "output_type": "stream",
          "text": [
            "iter 1 => max_depth: 5 n_tree: 5 max_feature: sqrt train_roc: 0.687 val_roc: 0.682\n",
            "iter 2 => max_depth: 5 n_tree: 5 max_feature: log2 train_roc: 0.668 val_roc: 0.661\n",
            "iter 3 => max_depth: 5 n_tree: 5 max_feature: None train_roc: 0.718 val_roc: 0.717\n",
            "iter 4 => max_depth: 10 n_tree: 5 max_feature: sqrt train_roc: 0.771 val_roc: 0.706\n",
            "iter 5 => max_depth: 10 n_tree: 5 max_feature: log2 train_roc: 0.743 val_roc: 0.679\n",
            "iter 6 => max_depth: 10 n_tree: 5 max_feature: None train_roc: 0.796 val_roc: 0.717\n",
            "iter 7 => max_depth: 15 n_tree: 5 max_feature: sqrt train_roc: 0.875 val_roc: 0.666\n",
            "iter 8 => max_depth: 15 n_tree: 5 max_feature: log2 train_roc: 0.826 val_roc: 0.651\n",
            "iter 9 => max_depth: 15 n_tree: 5 max_feature: None train_roc: 0.913 val_roc: 0.687\n",
            "iter 10 => max_depth: 20 n_tree: 5 max_feature: sqrt train_roc: 0.954 val_roc: 0.644\n",
            "iter 11 => max_depth: 20 n_tree: 5 max_feature: log2 train_roc: 0.919 val_roc: 0.628\n",
            "iter 12 => max_depth: 20 n_tree: 5 max_feature: None train_roc: 0.966 val_roc: 0.657\n",
            "iter 13 => max_depth: 25 n_tree: 5 max_feature: sqrt train_roc: 0.981 val_roc: 0.621\n",
            "iter 14 => max_depth: 25 n_tree: 5 max_feature: log2 train_roc: 0.964 val_roc: 0.613\n",
            "iter 15 => max_depth: 25 n_tree: 5 max_feature: None train_roc: 0.982 val_roc: 0.643\n",
            "iter 16 => max_depth: 30 n_tree: 5 max_feature: sqrt train_roc: 0.991 val_roc: 0.61\n",
            "iter 17 => max_depth: 30 n_tree: 5 max_feature: log2 train_roc: 0.985 val_roc: 0.601\n",
            "iter 18 => max_depth: 30 n_tree: 5 max_feature: None train_roc: 0.988 val_roc: 0.636\n",
            "iter 19 => max_depth: None n_tree: 5 max_feature: sqrt train_roc: 0.995 val_roc: 0.586\n",
            "iter 20 => max_depth: None n_tree: 5 max_feature: log2 train_roc: 0.995 val_roc: 0.57\n",
            "iter 21 => max_depth: None n_tree: 5 max_feature: None train_roc: 0.994 val_roc: 0.605\n",
            "iter 22 => max_depth: 5 n_tree: 10 max_feature: sqrt train_roc: 0.713 val_roc: 0.704\n",
            "iter 23 => max_depth: 5 n_tree: 10 max_feature: log2 train_roc: 0.689 val_roc: 0.686\n",
            "iter 24 => max_depth: 5 n_tree: 10 max_feature: None train_roc: 0.722 val_roc: 0.719\n",
            "iter 25 => max_depth: 10 n_tree: 10 max_feature: sqrt train_roc: 0.787 val_roc: 0.708\n",
            "iter 26 => max_depth: 10 n_tree: 10 max_feature: log2 train_roc: 0.763 val_roc: 0.701\n",
            "iter 27 => max_depth: 10 n_tree: 10 max_feature: None train_roc: 0.81 val_roc: 0.724\n",
            "iter 28 => max_depth: 15 n_tree: 10 max_feature: sqrt train_roc: 0.909 val_roc: 0.688\n",
            "iter 29 => max_depth: 15 n_tree: 10 max_feature: log2 train_roc: 0.873 val_roc: 0.671\n",
            "iter 30 => max_depth: 15 n_tree: 10 max_feature: None train_roc: 0.935 val_roc: 0.703\n",
            "iter 31 => max_depth: 20 n_tree: 10 max_feature: sqrt train_roc: 0.976 val_roc: 0.668\n",
            "iter 32 => max_depth: 20 n_tree: 10 max_feature: log2 train_roc: 0.958 val_roc: 0.652\n",
            "iter 33 => max_depth: 20 n_tree: 10 max_feature: None train_roc: 0.979 val_roc: 0.689\n",
            "iter 34 => max_depth: 25 n_tree: 10 max_feature: sqrt train_roc: 0.994 val_roc: 0.66\n",
            "iter 35 => max_depth: 25 n_tree: 10 max_feature: log2 train_roc: 0.985 val_roc: 0.642\n",
            "iter 36 => max_depth: 25 n_tree: 10 max_feature: None train_roc: 0.991 val_roc: 0.68\n",
            "iter 37 => max_depth: 30 n_tree: 10 max_feature: sqrt train_roc: 0.999 val_roc: 0.645\n",
            "iter 38 => max_depth: 30 n_tree: 10 max_feature: log2 train_roc: 0.996 val_roc: 0.632\n",
            "iter 39 => max_depth: 30 n_tree: 10 max_feature: None train_roc: 0.996 val_roc: 0.671\n",
            "iter 40 => max_depth: None n_tree: 10 max_feature: sqrt train_roc: 1.0 val_roc: 0.619\n",
            "iter 41 => max_depth: None n_tree: 10 max_feature: log2 train_roc: 1.0 val_roc: 0.608\n",
            "iter 42 => max_depth: None n_tree: 10 max_feature: None train_roc: 1.0 val_roc: 0.645\n",
            "iter 43 => max_depth: 5 n_tree: 15 max_feature: sqrt train_roc: 0.701 val_roc: 0.695\n",
            "iter 44 => max_depth: 5 n_tree: 15 max_feature: log2 train_roc: 0.704 val_roc: 0.696\n",
            "iter 45 => max_depth: 5 n_tree: 15 max_feature: None train_roc: 0.721 val_roc: 0.719\n",
            "iter 46 => max_depth: 10 n_tree: 15 max_feature: sqrt train_roc: 0.791 val_roc: 0.714\n",
            "iter 47 => max_depth: 10 n_tree: 15 max_feature: log2 train_roc: 0.765 val_roc: 0.697\n",
            "iter 48 => max_depth: 10 n_tree: 15 max_feature: None train_roc: 0.816 val_roc: 0.729\n",
            "iter 49 => max_depth: 15 n_tree: 15 max_feature: sqrt train_roc: 0.922 val_roc: 0.696\n",
            "iter 50 => max_depth: 15 n_tree: 15 max_feature: log2 train_roc: 0.878 val_roc: 0.677\n",
            "iter 51 => max_depth: 15 n_tree: 15 max_feature: None train_roc: 0.942 val_roc: 0.711\n",
            "iter 52 => max_depth: 20 n_tree: 15 max_feature: sqrt train_roc: 0.983 val_roc: 0.678\n",
            "iter 53 => max_depth: 20 n_tree: 15 max_feature: log2 train_roc: 0.961 val_roc: 0.656\n",
            "iter 54 => max_depth: 20 n_tree: 15 max_feature: None train_roc: 0.983 val_roc: 0.699\n",
            "iter 55 => max_depth: 25 n_tree: 15 max_feature: sqrt train_roc: 0.997 val_roc: 0.671\n",
            "iter 56 => max_depth: 25 n_tree: 15 max_feature: log2 train_roc: 0.99 val_roc: 0.647\n",
            "iter 57 => max_depth: 25 n_tree: 15 max_feature: None train_roc: 0.993 val_roc: 0.695\n",
            "iter 58 => max_depth: 30 n_tree: 15 max_feature: sqrt train_roc: 0.999 val_roc: 0.66\n",
            "iter 59 => max_depth: 30 n_tree: 15 max_feature: log2 train_roc: 0.998 val_roc: 0.64\n",
            "iter 60 => max_depth: 30 n_tree: 15 max_feature: None train_roc: 0.996 val_roc: 0.685\n",
            "iter 61 => max_depth: None n_tree: 15 max_feature: sqrt train_roc: 1.0 val_roc: 0.645\n",
            "iter 62 => max_depth: None n_tree: 15 max_feature: log2 train_roc: 1.0 val_roc: 0.631\n",
            "iter 63 => max_depth: None n_tree: 15 max_feature: None train_roc: 1.0 val_roc: 0.666\n",
            "iter 64 => max_depth: 5 n_tree: 20 max_feature: sqrt train_roc: 0.717 val_roc: 0.712\n",
            "iter 65 => max_depth: 5 n_tree: 20 max_feature: log2 train_roc: 0.684 val_roc: 0.675\n",
            "iter 66 => max_depth: 5 n_tree: 20 max_feature: None train_roc: 0.723 val_roc: 0.719\n",
            "iter 67 => max_depth: 10 n_tree: 20 max_feature: sqrt train_roc: 0.797 val_roc: 0.721\n",
            "iter 68 => max_depth: 10 n_tree: 20 max_feature: log2 train_roc: 0.771 val_roc: 0.7\n",
            "iter 69 => max_depth: 10 n_tree: 20 max_feature: None train_roc: 0.816 val_roc: 0.733\n",
            "iter 70 => max_depth: 15 n_tree: 20 max_feature: sqrt train_roc: 0.924 val_roc: 0.705\n",
            "iter 71 => max_depth: 15 n_tree: 20 max_feature: log2 train_roc: 0.891 val_roc: 0.684\n",
            "iter 72 => max_depth: 15 n_tree: 20 max_feature: None train_roc: 0.948 val_roc: 0.715\n",
            "iter 73 => max_depth: 20 n_tree: 20 max_feature: sqrt train_roc: 0.985 val_roc: 0.685\n",
            "iter 74 => max_depth: 20 n_tree: 20 max_feature: log2 train_roc: 0.967 val_roc: 0.663\n",
            "iter 75 => max_depth: 20 n_tree: 20 max_feature: None train_roc: 0.986 val_roc: 0.709\n",
            "iter 76 => max_depth: 25 n_tree: 20 max_feature: sqrt train_roc: 0.998 val_roc: 0.678\n",
            "iter 77 => max_depth: 25 n_tree: 20 max_feature: log2 train_roc: 0.993 val_roc: 0.655\n",
            "iter 78 => max_depth: 25 n_tree: 20 max_feature: None train_roc: 0.995 val_roc: 0.701\n",
            "iter 79 => max_depth: 30 n_tree: 20 max_feature: sqrt train_roc: 1.0 val_roc: 0.673\n",
            "iter 80 => max_depth: 30 n_tree: 20 max_feature: log2 train_roc: 0.999 val_roc: 0.65\n",
            "iter 81 => max_depth: 30 n_tree: 20 max_feature: None train_roc: 0.997 val_roc: 0.696\n",
            "iter 82 => max_depth: None n_tree: 20 max_feature: sqrt train_roc: 1.0 val_roc: 0.663\n",
            "iter 83 => max_depth: None n_tree: 20 max_feature: log2 train_roc: 1.0 val_roc: 0.642\n",
            "iter 84 => max_depth: None n_tree: 20 max_feature: None train_roc: 1.0 val_roc: 0.672\n",
            "iter 85 => max_depth: 5 n_tree: 25 max_feature: sqrt train_roc: 0.718 val_roc: 0.71\n",
            "iter 86 => max_depth: 5 n_tree: 25 max_feature: log2 train_roc: 0.669 val_roc: 0.66\n",
            "iter 87 => max_depth: 5 n_tree: 25 max_feature: None train_roc: 0.723 val_roc: 0.72\n",
            "iter 88 => max_depth: 10 n_tree: 25 max_feature: sqrt train_roc: 0.8 val_roc: 0.724\n",
            "iter 89 => max_depth: 10 n_tree: 25 max_feature: log2 train_roc: 0.772 val_roc: 0.703\n",
            "iter 90 => max_depth: 10 n_tree: 25 max_feature: None train_roc: 0.818 val_roc: 0.731\n",
            "iter 91 => max_depth: 15 n_tree: 25 max_feature: sqrt train_roc: 0.93 val_roc: 0.706\n",
            "iter 92 => max_depth: 15 n_tree: 25 max_feature: log2 train_roc: 0.893 val_roc: 0.686\n",
            "iter 93 => max_depth: 15 n_tree: 25 max_feature: None train_roc: 0.948 val_roc: 0.717\n",
            "iter 94 => max_depth: 20 n_tree: 25 max_feature: sqrt train_roc: 0.987 val_roc: 0.692\n",
            "iter 95 => max_depth: 20 n_tree: 25 max_feature: log2 train_roc: 0.97 val_roc: 0.668\n",
            "iter 96 => max_depth: 20 n_tree: 25 max_feature: None train_roc: 0.987 val_roc: 0.715\n",
            "iter 97 => max_depth: 25 n_tree: 25 max_feature: sqrt train_roc: 0.999 val_roc: 0.683\n",
            "iter 98 => max_depth: 25 n_tree: 25 max_feature: log2 train_roc: 0.995 val_roc: 0.655\n",
            "iter 99 => max_depth: 25 n_tree: 25 max_feature: None train_roc: 0.994 val_roc: 0.702\n",
            "iter 100 => max_depth: 30 n_tree: 25 max_feature: sqrt train_roc: 1.0 val_roc: 0.685\n",
            "iter 101 => max_depth: 30 n_tree: 25 max_feature: log2 train_roc: 0.999 val_roc: 0.658\n",
            "iter 102 => max_depth: 30 n_tree: 25 max_feature: None train_roc: 0.998 val_roc: 0.699\n",
            "iter 103 => max_depth: None n_tree: 25 max_feature: sqrt train_roc: 1.0 val_roc: 0.67\n",
            "iter 104 => max_depth: None n_tree: 25 max_feature: log2 train_roc: 1.0 val_roc: 0.658\n",
            "iter 105 => max_depth: None n_tree: 25 max_feature: None train_roc: 1.0 val_roc: 0.684\n",
            "iter 106 => max_depth: 5 n_tree: 30 max_feature: sqrt train_roc: 0.722 val_roc: 0.715\n",
            "iter 107 => max_depth: 5 n_tree: 30 max_feature: log2 train_roc: 0.686 val_roc: 0.679\n",
            "iter 108 => max_depth: 5 n_tree: 30 max_feature: None train_roc: 0.723 val_roc: 0.72\n",
            "iter 109 => max_depth: 10 n_tree: 30 max_feature: sqrt train_roc: 0.798 val_roc: 0.721\n",
            "iter 110 => max_depth: 10 n_tree: 30 max_feature: log2 train_roc: 0.776 val_roc: 0.706\n",
            "iter 111 => max_depth: 10 n_tree: 30 max_feature: None train_roc: 0.818 val_roc: 0.733\n"
          ],
          "name": "stdout"
        }
      ]
    },
    {
      "metadata": {
        "id": "5xetzKsu21wH",
        "colab_type": "code",
        "colab": {
          "base_uri": "https://localhost:8080/",
          "height": 136
        },
        "outputId": "8a8bb3ba-b367-473c-feca-d4b811ba137e"
      },
      "cell_type": "code",
      "source": [
        "# test script\n",
        "model_rf = RandomForestClassifier(class_weight = 'balanced', verbose = 0, n_jobs = 20)\n",
        "model_rf.fit(x_train, y_train)\n",
        "metrics.roc_auc_score(y_val, [i[1] for i in model_rf.predict_proba(x_val)])\n",
        "metrics.confusion_matrix(list(y_test == 1), [i[1] > 0.9 for i in model_rf.predict_proba(x_test)])"
      ],
      "execution_count": 98,
      "outputs": [
        {
          "output_type": "execute_result",
          "data": {
            "text/plain": [
              "RandomForestClassifier(bootstrap=True, class_weight='balanced',\n",
              "            criterion='gini', max_depth=None, max_features='auto',\n",
              "            max_leaf_nodes=None, min_impurity_decrease=0.0,\n",
              "            min_impurity_split=None, min_samples_leaf=1,\n",
              "            min_samples_split=2, min_weight_fraction_leaf=0.0,\n",
              "            n_estimators=10, n_jobs=20, oob_score=False, random_state=None,\n",
              "            verbose=0, warm_start=False)"
            ]
          },
          "metadata": {
            "tags": []
          },
          "execution_count": 98
        }
      ]
    },
    {
      "metadata": {
        "id": "Yw9LnXqD3ZtZ",
        "colab_type": "code",
        "colab": {}
      },
      "cell_type": "code",
      "source": [
        "feature_importance = pd.DataFrame(x_train.columns, columns=['feature_name'])\n",
        "feature_importance['importance'] = model_rf.feature_importances_\n",
        "feature_importance.sort_values(by = 'importance', ascending = False)"
      ],
      "execution_count": 0,
      "outputs": []
    },
    {
      "metadata": {
        "id": "LR1Dwefk-1p7",
        "colab_type": "code",
        "colab": {}
      },
      "cell_type": "code",
      "source": [
        ""
      ],
      "execution_count": 0,
      "outputs": []
    }
  ]
}